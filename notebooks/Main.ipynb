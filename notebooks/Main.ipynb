{
 "cells": [
  {
   "metadata": {},
   "cell_type": "markdown",
   "source": " # Breast Cancer Mass Detection with EfficientDet",
   "id": "e2a739b434ef3c77"
  },
  {
   "metadata": {},
   "cell_type": "markdown",
   "source": [
    "# Necessary Imports"
   ],
   "id": "f02b79ceb2bfb3ef"
  },
  {
   "cell_type": "code",
   "id": "initial_id",
   "metadata": {
    "collapsed": true,
    "ExecuteTime": {
     "end_time": "2024-09-08T12:32:31.195146Z",
     "start_time": "2024-09-08T12:32:11.615207Z"
    }
   },
   "source": [
    "# Dataset Operations\n",
    "import numpy as np\n",
    "import pandas as pd\n",
    "\n",
    "# File Operations\n",
    "import os\n",
    "\n",
    "# Model Operations\n",
    "import tensorflow as tf\n",
    "import matplotlib.pyplot as plt\n",
    "import cv2\n",
    "# Others\n",
    "import glob\n",
    "print(\"Done\")"
   ],
   "outputs": [
    {
     "name": "stdout",
     "output_type": "stream",
     "text": [
      "Done\n"
     ]
    }
   ],
   "execution_count": 1
  },
  {
   "metadata": {
    "ExecuteTime": {
     "end_time": "2024-09-08T12:32:35.304139Z",
     "start_time": "2024-09-08T12:32:33.568078Z"
    }
   },
   "cell_type": "code",
   "source": [
    "############  TEST  ############\n",
    "print(\"Num GPUs Available:\", len(tf.config.experimental.list_physical_devices('GPU')))\n",
    "print(\"The following GPU devices are available: %s\" % tf.test.gpu_device_name())"
   ],
   "id": "de2b095e161bdb2b",
   "outputs": [
    {
     "name": "stdout",
     "output_type": "stream",
     "text": [
      "Num GPUs Available: 1\n",
      "The following GPU devices are available: /device:GPU:0\n"
     ]
    }
   ],
   "execution_count": 2
  },
  {
   "metadata": {},
   "cell_type": "markdown",
   "source": [
    "# Data Preprocessing"
   ],
   "id": "c2525199f227a068"
  },
  {
   "metadata": {},
   "cell_type": "markdown",
   "source": [
    "## Load the Dataset "
   ],
   "id": "2bcc231dac23b870"
  },
  {
   "metadata": {
    "ExecuteTime": {
     "end_time": "2024-09-08T13:41:04.720719Z",
     "start_time": "2024-09-08T13:41:04.654331Z"
    }
   },
   "cell_type": "code",
   "source": [
    "def resize_image(image_path, target_size=(640, 640)):\n",
    "    \"\"\"\n",
    "    This function loads an image from the given file path, pads it to a square shape with zeros, \n",
    "    and then resizes it to the target size.\n",
    "\n",
    "    Parameters:\n",
    "    image_path (str): The file path to the image.\n",
    "    target_size (tuple): The target size in the format (width, height).\n",
    "\n",
    "    Returns:\n",
    "    np.array: The resized image.\n",
    "    \"\"\"\n",
    "    # Load the image from the file path\n",
    "    image = cv2.imread(image_path)\n",
    "    \n",
    "    # Get the original size of the image\n",
    "    original_dimensions = (image.shape[1], image.shape[0])\n",
    "    \n",
    "    # Determine the longer side to use as the size for both dimensions\n",
    "    max_side = max(image.shape[:2])\n",
    "    \n",
    "    # Calculate padding for the top, bottom, left, and right\n",
    "    top = (max_side - image.shape[0]) // 2\n",
    "    bottom = max_side - image.shape[0] - top\n",
    "    left = (max_side - image.shape[1]) // 2\n",
    "    right = max_side - image.shape[1] - left\n",
    "    \n",
    "    # Apply padding to make the image square\n",
    "    image_padded = cv2.copyMakeBorder(image, top, bottom, left, right, cv2.BORDER_CONSTANT, value=[0, 0, 0])\n",
    "    \n",
    "    # Resize the padded image to the target size\n",
    "    resized_image = cv2.resize(image_padded, target_size)\n",
    "    \n",
    "    return resized_image"
   ],
   "id": "d78ba7ad483f3f77",
   "outputs": [],
   "execution_count": 17
  },
  {
   "metadata": {
    "ExecuteTime": {
     "end_time": "2024-09-08T13:41:15.367736Z",
     "start_time": "2024-09-08T13:41:15.352112Z"
    }
   },
   "cell_type": "code",
   "source": [
    "def adjust_and_scale_bounding_box(bbox, padded_size, new_size=(640, 640)):\n",
    "    \"\"\"\n",
    "    Scale the bounding box coordinates based on the resizing of the image.\n",
    "\n",
    "    Parameters:\n",
    "    bbox (list): The bounding box coordinates in the format [x1, y1, x2, y2, x3, y3, x4, y4].\n",
    "    padded_size (tuple): The padded size of the original image, in the format (width, height).\n",
    "    new_size (tuple): The new size of the image after resizing, in the format (width, height).\n",
    "\n",
    "    Returns:\n",
    "    list: The scaled bounding box coordinates in the format [y1(ymin), x1(xmin), y3(ymax), x3(xmax)].\n",
    "    \"\"\"\n",
    "    padded_width, padded_height = padded_size\n",
    "    new_width, new_height = new_size\n",
    "    \n",
    "    # Calculate scaling factors\n",
    "    scale_x = new_width / padded_width\n",
    "    scale_y = new_height / padded_height\n",
    "    \n",
    "    # Scale the coordinates\n",
    "    scaled_bbox = []\n",
    "    for i in range(0, len(bbox), 2):\n",
    "        x = bbox[i]\n",
    "        y = bbox[i + 1]\n",
    "        scaled_bbox.append(x * scale_x)\n",
    "        scaled_bbox.append(y * scale_y)\n",
    "    \n",
    "    # Calculate the offsets\n",
    "    x_offset = new_width / 2\n",
    "    y_offset = new_height / 2\n",
    "\n",
    "    # Adjust the coordinates\n",
    "    adjusted_bounding_box = []\n",
    "    for i in range(len(scaled_bbox)):\n",
    "        if(i % 2 == 0): # x-coordinates\n",
    "            adjusted_bounding_box.append(scaled_bbox[i] + x_offset)\n",
    "        else: # y-coordinates\n",
    "            adjusted_bounding_box.append(scaled_bbox[i] + y_offset)\n",
    "\n",
    "    # New bounding box format: [ymin, xmin, ymax, xmax]\n",
    "    ymin = min(adjusted_bounding_box[1], adjusted_bounding_box[3], adjusted_bounding_box[5], adjusted_bounding_box[7])\n",
    "    xmin = min(adjusted_bounding_box[0], adjusted_bounding_box[2], adjusted_bounding_box[4], adjusted_bounding_box[6])\n",
    "    ymax = max(adjusted_bounding_box[1], adjusted_bounding_box[3], adjusted_bounding_box[5], adjusted_bounding_box[7])\n",
    "    xmax = max(adjusted_bounding_box[0], adjusted_bounding_box[2], adjusted_bounding_box[4], adjusted_bounding_box[6])\n",
    "    \n",
    "    return [ymin, xmin, ymax, xmax]"
   ],
   "id": "efb717da18bfc771",
   "outputs": [],
   "execution_count": 18
  },
  {
   "metadata": {
    "ExecuteTime": {
     "end_time": "2024-09-08T13:41:17.850529Z",
     "start_time": "2024-09-08T13:41:17.834904Z"
    }
   },
   "cell_type": "code",
   "source": [
    "def extract_bounding_box_coordinates(bounding_box_list):\n",
    "    new_list = []\n",
    "    for bounding_box in bounding_box_list:\n",
    "        x = float(bounding_box.split('/')[0])\n",
    "        y = float(bounding_box.split('/')[1])\n",
    "        new_list.append(x)\n",
    "        new_list.append(y)\n",
    "    return new_list"
   ],
   "id": "66872bb0a7fb50bc",
   "outputs": [],
   "execution_count": 20
  },
  {
   "metadata": {
    "ExecuteTime": {
     "end_time": "2024-09-08T13:41:18.283960Z",
     "start_time": "2024-09-08T13:41:18.268338Z"
    }
   },
   "cell_type": "code",
   "source": [
    "def create_example(image, labels, bounding_boxes_list):\n",
    "    \"\"\"\n",
    "    Create a TFRecord from the image, labels, and bounding boxes.\n",
    "\n",
    "    Parameters:\n",
    "    image (np.array): The image to be stored in the TFRecord.\n",
    "    labels (list): A list of labels corresponding to each bounding box.\n",
    "    bounding_boxes_list (list): A list of bounding box coordinates, each in the format [ymin, xmin, ymax, xmax].\n",
    "\n",
    "    Returns:\n",
    "    tf.train.Example: The TFRecord example.\n",
    "    \"\"\"\n",
    "    height, width, _ = image.shape\n",
    "\n",
    "    # Encode the image\n",
    "    encoded_image = tf.io.encode_jpeg(image).numpy()\n",
    "\n",
    "    # Initialize lists to store normalized coordinates\n",
    "    ymins = []\n",
    "    xmins = []\n",
    "    ymaxs = []\n",
    "    xmaxs = []\n",
    "\n",
    "    for bbox in bounding_boxes_list:\n",
    "        ymin, xmin, ymax, xmax = bbox\n",
    "        ymins.append(ymin / height)\n",
    "        xmins.append(xmin / width)\n",
    "        ymaxs.append(ymax / height)\n",
    "        xmaxs.append(xmax / width)\n",
    "\n",
    "    # Create the feature dictionary\n",
    "    feature = {\n",
    "        'image/encoded': tf.train.Feature(bytes_list=tf.train.BytesList(value=[encoded_image])),\n",
    "        'image/format': tf.train.Feature(bytes_list=tf.train.BytesList(value=[b'jpeg'])),\n",
    "        'image/height': tf.train.Feature(int64_list=tf.train.Int64List(value=[height])),\n",
    "        'image/width': tf.train.Feature(int64_list=tf.train.Int64List(value=[width])),\n",
    "        'image/object/bbox/ymin': tf.train.Feature(float_list=tf.train.FloatList(value=ymins)),\n",
    "        'image/object/bbox/xmin': tf.train.Feature(float_list=tf.train.FloatList(value=xmins)),\n",
    "        'image/object/bbox/ymax': tf.train.Feature(float_list=tf.train.FloatList(value=ymaxs)),\n",
    "        'image/object/bbox/xmax': tf.train.Feature(float_list=tf.train.FloatList(value=xmaxs)),\n",
    "        'image/object/class/label': tf.train.Feature(int64_list=tf.train.Int64List(value=labels))\n",
    "    }\n",
    "\n",
    "    # Return a tf.train.Example\n",
    "    return tf.train.Example(features=tf.train.Features(feature=feature))                                            "
   ],
   "id": "da9e555fd1d562d5",
   "outputs": [],
   "execution_count": 21
  },
  {
   "metadata": {
    "ExecuteTime": {
     "end_time": "2024-09-08T13:41:18.753468Z",
     "start_time": "2024-09-08T13:41:18.722220Z"
    }
   },
   "cell_type": "code",
   "source": [
    "def create_tfrecord(image, label, bounding_boxes_list, output_path):\n",
    "    \"\"\"\n",
    "    Create a TFRecord file for a single image.\n",
    "\n",
    "    Parameters:\n",
    "    image (np.array): The image to be stored in the TFRecord.\n",
    "    label (int): The label of the image.\n",
    "    bounding_boxes_list (list): A list of bounding box coordinates, each in the format [ymin, xmin, ymax, xmax].\n",
    "    output_path (str): The output path for the TFRecord file.\n",
    "    \"\"\"\n",
    "    tf_example = create_example(image, label, bounding_boxes_list)\n",
    "    \n",
    "    with tf.io.TFRecordWriter(output_path) as writer:\n",
    "        writer.write(tf_example.SerializeToString())"
   ],
   "id": "d8b5a77fadd7d8dd",
   "outputs": [],
   "execution_count": 22
  },
  {
   "metadata": {},
   "cell_type": "markdown",
   "source": "## Load the csv file",
   "id": "a2b2b115be722d93"
  },
  {
   "metadata": {
    "ExecuteTime": {
     "end_time": "2024-09-08T13:41:35.368388Z",
     "start_time": "2024-09-08T13:41:35.352762Z"
    }
   },
   "cell_type": "code",
   "outputs": [],
   "execution_count": 23,
   "source": [
    "def convert_images_to_tfrecords(image_root, tfrecord_root, bbox_data_csv_path):\n",
    "    \"\"\"\n",
    "    Converts images and bounding box data into TFRecord format.\n",
    "\n",
    "    Parameters:\n",
    "    - image_root: The root directory containing the images.\n",
    "    - tfrecord_root: The directory where the TFRecord files will be saved.\n",
    "    - bbox_data_csv_path: The path to the CSV file containing bounding box data.\n",
    "    \"\"\"\n",
    "\n",
    "    # Load the CSV file into a DataFrame\n",
    "    bbox_data = pd.read_csv(bbox_data_csv_path, delimiter=\";\")\n",
    "\n",
    "    bbox_data = bbox_data[bbox_data['label_name'] == \"mass\"]\n",
    "\n",
    "    # Add a new column for the modified file name (to .jpeg)\n",
    "    bbox_data['modified_file_name'] = bbox_data['file_name'].apply(lambda x: os.path.splitext(x)[0] + \".jpeg\")\n",
    "\n",
    "    # Group by 'category', 'patient_id', and 'modified_file_name'\n",
    "    grouped = bbox_data.groupby(['category', 'patient_id', 'modified_file_name'])\n",
    "\n",
    "    for (category, patient_id, modified_file_name), group in grouped:\n",
    "        # Construct the file path for the image\n",
    "        file_path_train = os.path.join(image_root, \"train\", category, str(patient_id), modified_file_name)\n",
    "        file_path_test = os.path.join(image_root, \"test\", category, str(patient_id), modified_file_name)\n",
    "\n",
    "        # Determine the correct file path\n",
    "        if os.path.exists(file_path_train):\n",
    "            file_path = file_path_train\n",
    "            tfrecord_subdir = \"train\"\n",
    "        elif os.path.exists(file_path_test):\n",
    "            file_path = file_path_test\n",
    "            tfrecord_subdir = \"test\"\n",
    "        else:\n",
    "            print(f\"File not found in both train and test directories: {category, patient_id, modified_file_name}\")\n",
    "            continue\n",
    "\n",
    "        # Resize the image\n",
    "        image = resize_image(file_path)\n",
    "\n",
    "        # Collect all bounding boxes and labels for this image\n",
    "        bounding_boxes_list = []\n",
    "        labels = []\n",
    "        for _, row in group.iterrows():\n",
    "            if pd.notna(row['label_coordinates']):\n",
    "                bounding_box_list = row['label_coordinates'].split('|')\n",
    "                bounding_box = extract_bounding_box_coordinates(bounding_box_list)\n",
    "                bounding_box = adjust_and_scale_bounding_box(bounding_box, (2964, 2964))\n",
    "                bounding_boxes_list.append(bounding_box)\n",
    "                labels.append(1)  # Label is 1 for \"mass\"\n",
    "\n",
    "        # Define the output path for the TFRecord\n",
    "        tfrecord_dir = os.path.join(tfrecord_root, tfrecord_subdir, category, str(patient_id))\n",
    "        tfrecord_path = os.path.join(tfrecord_dir, f\"{os.path.splitext(modified_file_name)[0]}.tfrecord\")\n",
    "\n",
    "        # Create the directory if it does not exist\n",
    "        os.makedirs(tfrecord_dir, exist_ok=True)\n",
    "\n",
    "        # Check if the TFRecord file already exists\n",
    "        if os.path.exists(tfrecord_path):\n",
    "            print(f\"TFRecord already exists: {tfrecord_path}\")\n",
    "            continue\n",
    "\n",
    "        # Create a TFRecord for the image\n",
    "        create_tfrecord(image, labels, bounding_boxes_list, tfrecord_path)"
   ],
   "id": "f75720c6c02a47f"
  },
  {
   "metadata": {
    "ExecuteTime": {
     "end_time": "2024-09-08T13:43:22.851655Z",
     "start_time": "2024-09-08T13:41:36.576878Z"
    }
   },
   "cell_type": "code",
   "source": "# convert_images_to_tfrecords(<hidden_path>, <hidden_path>, <hidden_path>)",
   "id": "cb1e518aa98a70c",
   "outputs": [],
   "execution_count": 24
  },
  {
   "metadata": {},
   "cell_type": "markdown",
   "source": " ## Checks before model training",
   "id": "7fee348ca93b6e24"
  },
  {
   "metadata": {
    "ExecuteTime": {
     "end_time": "2024-09-08T13:43:29.910321Z",
     "start_time": "2024-09-08T13:43:29.889195Z"
    }
   },
   "cell_type": "code",
   "source": [
    "import tensorflow as tf\n",
    "\n",
    "def print_tfrecord_contents(tfrecord_file):\n",
    "    raw_dataset = tf.data.TFRecordDataset(tfrecord_file)\n",
    "\n",
    "    feature_description = {\n",
    "        'image/encoded': tf.io.FixedLenFeature([], tf.string),\n",
    "        'image/filename': tf.io.FixedLenFeature([], tf.string, default_value=''),\n",
    "        'image/format': tf.io.FixedLenFeature([], tf.string, default_value='jpeg'),\n",
    "        'image/height': tf.io.FixedLenFeature([], tf.int64),\n",
    "        'image/width': tf.io.FixedLenFeature([], tf.int64),\n",
    "        'image/object/bbox/xmin': tf.io.VarLenFeature(tf.float32),\n",
    "        'image/object/bbox/xmax': tf.io.VarLenFeature(tf.float32),\n",
    "        'image/object/bbox/ymin': tf.io.VarLenFeature(tf.float32),\n",
    "        'image/object/bbox/ymax': tf.io.VarLenFeature(tf.float32),\n",
    "        'image/object/class/label': tf.io.VarLenFeature(tf.int64),\n",
    "    }\n",
    "\n",
    "    def _parse_function(example_proto):\n",
    "        return tf.io.parse_single_example(example_proto, feature_description)\n",
    "\n",
    "    parsed_dataset = raw_dataset.map(_parse_function)\n",
    "\n",
    "    for parsed_record in parsed_dataset.take(1):\n",
    "        try:\n",
    "            image_encoded = parsed_record['image/encoded'].numpy()\n",
    "            filename = parsed_record['image/filename'].numpy().decode('utf-8')\n",
    "            image_format = parsed_record['image/format'].numpy().decode('utf-8')\n",
    "            height = parsed_record['image/height'].numpy()\n",
    "            width = parsed_record['image/width'].numpy()\n",
    "            xmin = tf.sparse.to_dense(parsed_record['image/object/bbox/xmin'], default_value=0).numpy()\n",
    "            xmax = tf.sparse.to_dense(parsed_record['image/object/bbox/xmax'], default_value=0).numpy()\n",
    "            ymin = tf.sparse.to_dense(parsed_record['image/object/bbox/ymin'], default_value=0).numpy()\n",
    "            ymax = tf.sparse.to_dense(parsed_record['image/object/bbox/ymax'], default_value=0).numpy()\n",
    "            labels = tf.sparse.to_dense(parsed_record['image/object/class/label'], default_value=-1).numpy()\n",
    "\n",
    "            print(f\"Filename: {filename}\")\n",
    "            print(f\"Image Format: {image_format}\")\n",
    "            print(f\"Height: {height}, Width: {width}\")\n",
    "            print(f\"Bounding Boxes (ymin, xmin, ymax, xmax):\")\n",
    "            for i in range(len(xmin)):\n",
    "                print(f\"  Box {i + 1}: ({ymin[i]}, {xmin[i]}, {ymax[i]}, {xmax[i]})\")\n",
    "            print(f\"Labels: {labels}\")\n",
    "        except Exception as e:\n",
    "            print(f\"Error processing record: {e}\")"
   ],
   "id": "20eb494fc5f0de1b",
   "outputs": [],
   "execution_count": 25
  },
  {
   "metadata": {
    "ExecuteTime": {
     "end_time": "2024-09-08T12:42:26.656069Z",
     "start_time": "2024-09-08T12:42:26.640441Z"
    }
   },
   "cell_type": "code",
   "source": [
    "import matplotlib.patches as patches\n",
    "\n",
    "def visualize_bounding_boxes(image_path, bounding_boxes):\n",
    "    \"\"\"\n",
    "    Visualizes bounding boxes on the image.\n",
    "\n",
    "    Parameters:\n",
    "    image_path (str): The path to the image file.\n",
    "    bounding_boxes (list): List of bounding boxes with each box in the format [ymin, xmin, ymax, xmax].\n",
    "    \"\"\"\n",
    "    # Read and decode the image\n",
    "    image = tf.io.read_file(image_path)\n",
    "    image = tf.image.decode_jpeg(image, channels=3)\n",
    "\n",
    "    # Convert the image to a numpy array\n",
    "    image_np = image.numpy()\n",
    "    height, width, _ = image_np.shape\n",
    "\n",
    "    # Create a figure and axis\n",
    "    fig, ax = plt.subplots(1)\n",
    "\n",
    "    # Display the image\n",
    "    ax.imshow(image_np)\n",
    "\n",
    "    # Iterate over bounding boxes and add them to the plot\n",
    "    for box in bounding_boxes:\n",
    "        ymin, xmin, ymax, xmax = box\n",
    "        \n",
    "        # Convert normalized coordinates to pixel values\n",
    "        xmin_pixel = xmin * width\n",
    "        xmax_pixel = xmax * width\n",
    "        ymin_pixel = ymin * height\n",
    "        ymax_pixel = ymax * height\n",
    "        print(\"ymin:\",ymin_pixel,\"xmin:\",xmin_pixel,\"ymax:\",ymax_pixel,\"xmax:\",xmax_pixel)\n",
    "\n",
    "        box_width = xmax_pixel - xmin_pixel\n",
    "        box_height = ymax_pixel - ymin_pixel\n",
    "        rect = patches.Rectangle((xmin_pixel, ymin_pixel), box_width, box_height, linewidth=1, edgecolor='r', facecolor='none')\n",
    "        ax.add_patch(rect)\n",
    "\n",
    "    # Show the plot\n",
    "    plt.show()"
   ],
   "id": "ce79d9503873ea99",
   "outputs": [],
   "execution_count": 15
  },
  {
   "metadata": {
    "ExecuteTime": {
     "end_time": "2024-09-08T13:45:44.099861Z",
     "start_time": "2024-09-08T13:45:43.955536Z"
    }
   },
   "cell_type": "code",
   "outputs": [
    {
     "name": "stdout",
     "output_type": "stream",
     "text": [
      "ymin: 175.02666473388672 xmin: 434.4541931152344 ymax: 217.4669647216797 xmax: 488.2119369506836\n",
      "ymin: 270.30887603759766 xmin: 441.8022155761719 ymax: 294.973087310791 xmax: 468.64269256591797\n"
     ]
    },
    {
     "data": {
      "text/plain": [
       "<Figure size 640x480 with 1 Axes>"
      ],
      "image/png": "[encoded data removed]"
     },
     "metadata": {},
     "output_type": "display_data"
    }
   ],
   "execution_count": 28,
   "source": [
    "bounding_boxes = [[0.273479163646698, 0.6788346767425537, 0.3397921323776245, 0.7628311514854431],\n",
    "                  [0.42235761880874634, 0.6903159618377686, 0.46089544892311096, 0.7322542071342468]\n",
    "                  ]\n",
    "\n",
    "# visualize_bounding_boxes(<hidden_path>, bounding_boxes)"
   ],
   "id": "d228ab580be3f370"
  },
  {
   "metadata": {},
   "cell_type": "markdown",
   "source": "## Debugging",
   "id": "c765797b635563cd"
  },
  {
   "metadata": {
    "ExecuteTime": {
     "end_time": "2024-08-17T11:00:32.440977900Z",
     "start_time": "2024-08-17T11:00:18.368421Z"
    }
   },
   "cell_type": "code",
   "outputs": [
    {
     "name": "stdout",
     "output_type": "stream",
     "text": [
      "Inspecting C:/Users/abdulkadir/Documents/TensorFlow/workspace/training_demo/dataset/tfrecords/test/Kategori4\\11636-RCC.tfrecord\n",
      "Labels: [1]\n",
      "Bounding boxes: xmin=[0.72650087], xmax=[0.7918898], ymin=[0.23337092], ymax=[0.2852311]\n",
      "Inspecting C:/Users/abdulkadir/Documents/TensorFlow/workspace/training_demo/dataset/tfrecords/test/Kategori4\\11636-RMLO.tfrecord\n",
      "Labels: [1]\n",
      "Bounding boxes: xmin=[0.5280792], xmax=[0.58557636], ymin=[0.56933486], ymax=[0.638106]\n",
      "Inspecting C:/Users/abdulkadir/Documents/TensorFlow/workspace/training_demo/dataset/tfrecords/test/Kategori4\\11647-RCC.tfrecord\n",
      "Labels: [1 1]\n",
      "Bounding boxes: xmin=[0.83698565 0.5393532 ], xmax=[0.89899224 0.56866544], ymin=[0.66854566 0.1544531 ], ymax=[0.75648254 0.1803833 ]\n",
      "Inspecting C:/Users/abdulkadir/Documents/TensorFlow/workspace/training_demo/dataset/tfrecords/test/Kategori4\\11647-RMLO.tfrecord\n",
      "Labels: [1 1]\n",
      "Bounding boxes: xmin=[0.77272403 0.5010217 ], xmax=[0.8911005 0.524697 ], ymin=[0.4543405  0.36076662], ymax=[0.59188277 0.3900789 ]\n",
      "Inspecting C:/Users/abdulkadir/Documents/TensorFlow/workspace/training_demo/dataset/tfrecords/test/Kategori4\\11669-RCC.tfrecord\n",
      "Labels: [1]\n",
      "Bounding boxes: xmin=[0.6715225], xmax=[0.7831839], ymin=[0.14038934], ymax=[0.20297661]\n",
      "Inspecting C:/Users/abdulkadir/Documents/TensorFlow/workspace/training_demo/dataset/tfrecords/test/Kategori4\\11669-RMLO.tfrecord\n",
      "Labels: [1]\n",
      "Bounding boxes: xmin=[0.56269985], xmax=[0.64533085], ymin=[0.50918376], ymax=[0.57721114]\n",
      "Inspecting C:/Users/abdulkadir/Documents/TensorFlow/workspace/training_demo/dataset/tfrecords/test/Kategori4\\11681-RCC.tfrecord\n",
      "Labels: [1]\n",
      "Bounding boxes: xmin=[0.4753048], xmax=[0.5326036], ymin=[0.526603], ymax=[0.5893588]\n",
      "Inspecting C:/Users/abdulkadir/Documents/TensorFlow/workspace/training_demo/dataset/tfrecords/test/Kategori4\\11681-RMLO.tfrecord\n",
      "Labels: [1]\n",
      "Bounding boxes: xmin=[0.523829], xmax=[0.56998056], ymin=[0.8272475], ymax=[0.8605469]\n",
      "Inspecting C:/Users/abdulkadir/Documents/TensorFlow/workspace/training_demo/dataset/tfrecords/test/Kategori4\\11684-RCC.tfrecord\n",
      "Labels: [1]\n",
      "Bounding boxes: xmin=[0.68780816], xmax=[0.8148587], ymin=[0.19406535], ymax=[0.29929125]\n",
      "Inspecting C:/Users/abdulkadir/Documents/TensorFlow/workspace/training_demo/dataset/tfrecords/test/Kategori4\\11684-RMLO.tfrecord\n",
      "Labels: [1]\n",
      "Bounding boxes: xmin=[0.6348425], xmax=[0.7645144], ymin=[0.4201731], ymax=[0.5393513]\n",
      "Inspecting C:/Users/abdulkadir/Documents/TensorFlow/workspace/training_demo/dataset/tfrecords/test/Kategori4\\11702-RCC.tfrecord\n",
      "Labels: [1]\n",
      "Bounding boxes: xmin=[0.76619476], xmax=[0.81370854], ymin=[0.21104974], ymax=[0.2685083]\n",
      "Inspecting C:/Users/abdulkadir/Documents/TensorFlow/workspace/training_demo/dataset/tfrecords/test/Kategori4\\11702-RMLO.tfrecord\n",
      "Labels: [1]\n",
      "Bounding boxes: xmin=[0.6568025], xmax=[0.71315604], ymin=[0.43093923], ymax=[0.48508286]\n",
      "Inspecting C:/Users/abdulkadir/Documents/TensorFlow/workspace/training_demo/dataset/tfrecords/test/Kategori4\\11710-RCC.tfrecord\n",
      "Labels: [1]\n",
      "Bounding boxes: xmin=[0.48180786], xmax=[0.6436519], ymin=[0.48896518], ymax=[0.6385483]\n",
      "Inspecting C:/Users/abdulkadir/Documents/TensorFlow/workspace/training_demo/dataset/tfrecords/test/Kategori4\\11710-RMLO.tfrecord\n",
      "Labels: [1]\n",
      "Bounding boxes: xmin=[0.399905], xmax=[0.5465455], ymin=[0.37861696], ymax=[0.55860716]\n",
      "Inspecting C:/Users/abdulkadir/Documents/TensorFlow/workspace/training_demo/dataset/tfrecords/test/Kategori4\\11717-RCC.tfrecord\n",
      "Labels: [1 1]\n",
      "Bounding boxes: xmin=[0.89301825 0.84783196], xmax=[0.9363475 0.8917804], ymin=[0.22919275 0.33380172], ymax=[0.2712839  0.37094098]\n",
      "Inspecting C:/Users/abdulkadir/Documents/TensorFlow/workspace/training_demo/dataset/tfrecords/test/Kategori4\\11717-RMLO.tfrecord\n",
      "Labels: [1]\n",
      "Bounding boxes: xmin=[0.6974181], xmax=[0.75188905], ymin=[0.37465492], ymax=[0.41550812]\n",
      "Inspecting C:/Users/abdulkadir/Documents/TensorFlow/workspace/training_demo/dataset/tfrecords/test/Kategori4\\11727-RCC.tfrecord\n",
      "Labels: [1]\n",
      "Bounding boxes: xmin=[0.70975953], xmax=[0.8306543], ymin=[0.27760398], ymax=[0.34107375]\n",
      "Inspecting C:/Users/abdulkadir/Documents/TensorFlow/workspace/training_demo/dataset/tfrecords/test/Kategori4\\11727-RMLO.tfrecord\n",
      "Labels: [1]\n",
      "Bounding boxes: xmin=[0.49869743], xmax=[0.6654315], ymin=[0.36223033], ymax=[0.43375975]\n",
      "Inspecting C:/Users/abdulkadir/Documents/TensorFlow/workspace/training_demo/dataset/tfrecords/test/Kategori4\\11749-RCC.tfrecord\n",
      "Labels: [1]\n",
      "Bounding boxes: xmin=[0.6538553], xmax=[0.7221725], ymin=[0.05188225], ymax=[0.10440925]\n",
      "Inspecting C:/Users/abdulkadir/Documents/TensorFlow/workspace/training_demo/dataset/tfrecords/test/Kategori4\\11749-RMLO.tfrecord\n",
      "Labels: [1]\n",
      "Bounding boxes: xmin=[0.73844045], xmax=[0.8025684], ymin=[0.21158549], ymax=[0.26797938]\n",
      "Inspecting C:/Users/abdulkadir/Documents/TensorFlow/workspace/training_demo/dataset/tfrecords/test/Kategori4\\11778-RCC.tfrecord\n",
      "Labels: [1 1 1 1 1 1]\n",
      "Bounding boxes: xmin=[0.8503583  0.7992351  0.84725976 0.8261074  0.7737313  0.831176  ], xmax=[0.89941597 0.8555223  0.8999322  0.871725   0.83202076 0.8970685 ], ymin=[0.49139342 0.5280575  0.3400895  0.6903371  0.6337372  0.59318805], ymax=[0.5383854  0.5745331  0.39224544 0.73299825 0.68273413 0.65739095]\n",
      "Inspecting C:/Users/abdulkadir/Documents/TensorFlow/workspace/training_demo/dataset/tfrecords/test/Kategori4\\11778-RMLO.tfrecord\n",
      "Labels: [1 1 1 1 1 1]\n",
      "Bounding boxes: xmin=[0.7592114  0.7713327  0.6919938  0.765823   0.73717284 0.68978995], xmax=[0.8110021 0.8484676 0.7382748 0.8501204 0.8154098 0.7448864], ymin=[0.5299357  0.47263545 0.43792468 0.38227734 0.32607895 0.34977046], ymax=[0.571809   0.5244261  0.51120293 0.46216714 0.40651974 0.39770433]\n",
      "Inspecting C:/Users/abdulkadir/Documents/TensorFlow/workspace/training_demo/dataset/tfrecords/test/Kategori4\\11791-RCC.tfrecord\n",
      "Labels: [1]\n",
      "Bounding boxes: xmin=[0.8569963], xmax=[0.89786303], ymin=[0.22323741], ymax=[0.27212504]\n",
      "Inspecting C:/Users/abdulkadir/Documents/TensorFlow/workspace/training_demo/dataset/tfrecords/test/Kategori4\\11791-RMLO.tfrecord\n",
      "Labels: [1]\n",
      "Bounding boxes: xmin=[0.84799427], xmax=[0.8987281], ymin=[0.5224217], ymax=[0.56004465]\n",
      "Inspecting C:/Users/abdulkadir/Documents/TensorFlow/workspace/training_demo/dataset/tfrecords/test/Kategori4\\11797-RCC.tfrecord\n",
      "Labels: [1]\n",
      "Bounding boxes: xmin=[0.5394666], xmax=[0.59742075], ymin=[0.564696], ymax=[0.62770647]\n",
      "Inspecting C:/Users/abdulkadir/Documents/TensorFlow/workspace/training_demo/dataset/tfrecords/test/Kategori4\\11797-RMLO.tfrecord\n",
      "Labels: [1]\n",
      "Bounding boxes: xmin=[0.49578357], xmax=[0.5621405], ymin=[0.54703975], ymax=[0.6187053]\n",
      "Inspecting C:/Users/abdulkadir/Documents/TensorFlow/workspace/training_demo/dataset/tfrecords/test/Kategori4\\11827-RCC.tfrecord\n",
      "Labels: [1]\n",
      "Bounding boxes: xmin=[0.5978781], xmax=[0.6695816], ymin=[0.3606385], ymax=[0.4353061]\n",
      "Inspecting C:/Users/abdulkadir/Documents/TensorFlow/workspace/training_demo/dataset/tfrecords/test/Kategori4\\11827-RMLO.tfrecord\n",
      "Labels: [1]\n",
      "Bounding boxes: xmin=[0.6028485], xmax=[0.6533476], ymin=[0.7036007], ymax=[0.7553703]\n",
      "Inspecting C:/Users/abdulkadir/Documents/TensorFlow/workspace/training_demo/dataset/tfrecords/test/Kategori4\\11830-RCC.tfrecord\n",
      "Labels: [1]\n",
      "Bounding boxes: xmin=[0.80192846], xmax=[0.8583185], ymin=[0.26680037], ymax=[0.30744502]\n",
      "Inspecting C:/Users/abdulkadir/Documents/TensorFlow/workspace/training_demo/dataset/tfrecords/test/Kategori4\\11830-RMLO.tfrecord\n",
      "Labels: [1]\n",
      "Bounding boxes: xmin=[0.7060711], xmax=[0.7803756], ymin=[0.44827476], ymax=[0.5108271]\n",
      "Inspecting C:/Users/abdulkadir/Documents/TensorFlow/workspace/training_demo/dataset/tfrecords/test/Kategori4\\11832-RCC.tfrecord\n",
      "Labels: [1]\n",
      "Bounding boxes: xmin=[0.5511439], xmax=[0.60874087], ymin=[0.5952779], ymax=[0.65324175]\n",
      "Inspecting C:/Users/abdulkadir/Documents/TensorFlow/workspace/training_demo/dataset/tfrecords/test/Kategori4\\11832-RMLO.tfrecord\n",
      "Labels: [1]\n",
      "Bounding boxes: xmin=[0.5187464], xmax=[0.5735653], ymin=[0.60350406], ymax=[0.6590349]\n",
      "Inspecting C:/Users/abdulkadir/Documents/TensorFlow/workspace/training_demo/dataset/tfrecords/test/Kategori4\\11860-RCC.tfrecord\n",
      "Labels: [1 1]\n",
      "Bounding boxes: xmin=[0.8060798 0.8004502], xmax=[0.8302642  0.89368254], ymin=[0.25361654 0.38084748], ymax=[0.27780092 0.43241465]\n",
      "Inspecting C:/Users/abdulkadir/Documents/TensorFlow/workspace/training_demo/dataset/tfrecords/test/Kategori4\\11860-RMLO.tfrecord\n",
      "Labels: [1 1 1]\n",
      "Bounding boxes: xmin=[0.7890789  0.71828604 0.73915565], xmax=[0.8578256  0.7416109  0.76534486], ymin=[0.53197116 0.3686975  0.31018087], ymax=[0.5945799  0.38997626 0.32450312]\n",
      "Inspecting C:/Users/abdulkadir/Documents/TensorFlow/workspace/training_demo/dataset/tfrecords/test/Kategori4\\11877-RCC.tfrecord\n",
      "Labels: [1]\n",
      "Bounding boxes: xmin=[0.2515082], xmax=[0.30177563], ymin=[0.46014008], ymax=[0.52112025]\n",
      "Inspecting C:/Users/abdulkadir/Documents/TensorFlow/workspace/training_demo/dataset/tfrecords/test/Kategori4\\11877-RMLO.tfrecord\n",
      "Labels: [1]\n",
      "Bounding boxes: xmin=[0.2970706], xmax=[0.35524514], ymin=[0.69761926], ymax=[0.7548242]\n",
      "Inspecting C:/Users/abdulkadir/Documents/TensorFlow/workspace/training_demo/dataset/tfrecords/test/Kategori4\\11895-RCC.tfrecord\n",
      "Labels: [1]\n",
      "Bounding boxes: xmin=[0.7999929], xmax=[0.8518515], ymin=[0.67891645], ymax=[0.7261992]\n",
      "Inspecting C:/Users/abdulkadir/Documents/TensorFlow/workspace/training_demo/dataset/tfrecords/test/Kategori4\\11895-RMLO.tfrecord\n",
      "Labels: [1]\n",
      "Bounding boxes: xmin=[0.8640995], xmax=[0.8975965], ymin=[0.7532204], ymax=[0.812414]\n",
      "Inspecting C:/Users/abdulkadir/Documents/TensorFlow/workspace/training_demo/dataset/tfrecords/test/Kategori4\\11898-RCC.tfrecord\n",
      "Labels: [1]\n",
      "Bounding boxes: xmin=[0.8125657], xmax=[0.8989656], ymin=[0.5631199], ymax=[0.7203598]\n",
      "Inspecting C:/Users/abdulkadir/Documents/TensorFlow/workspace/training_demo/dataset/tfrecords/test/Kategori4\\11898-RMLO.tfrecord\n",
      "Labels: [1]\n",
      "Bounding boxes: xmin=[0.81056046], xmax=[0.9000209], ymin=[0.5316077], ymax=[0.67344975]\n",
      "Inspecting C:/Users/abdulkadir/Documents/TensorFlow/workspace/training_demo/dataset/tfrecords/test/Kategori4\\11901-LCC.tfrecord\n",
      "Labels: [1 1]\n",
      "Bounding boxes: xmin=[0.20417604 0.23907295], xmax=[0.2722915  0.28766122], ymin=[0.46964917 0.41824016], ymax=[0.54090345 0.44844368]\n",
      "Inspecting C:/Users/abdulkadir/Documents/TensorFlow/workspace/training_demo/dataset/tfrecords/test/Kategori4\\11901-LMLO.tfrecord\n",
      "Labels: [1 1]\n",
      "Bounding boxes: xmin=[0.23412426 0.1770019 ], xmax=[0.2991031  0.20916629], ymin=[0.5510491 0.2547136], ymax=[0.59895337 0.29491913]\n",
      "Inspecting C:/Users/abdulkadir/Documents/TensorFlow/workspace/training_demo/dataset/tfrecords/test/Kategori4\\11939-LCC.tfrecord\n",
      "Labels: [1]\n",
      "Bounding boxes: xmin=[0.0368863], xmax=[0.13189237], ymin=[0.26114616], ymax=[0.33741882]\n",
      "Inspecting C:/Users/abdulkadir/Documents/TensorFlow/workspace/training_demo/dataset/tfrecords/test/Kategori4\\11939-LMLO.tfrecord\n"
     ]
    },
    {
     "ename": "KeyboardInterrupt",
     "evalue": "",
     "output_type": "error",
     "traceback": [
      "\u001B[1;31m---------------------------------------------------------------------------\u001B[0m",
      "\u001B[1;31mKeyboardInterrupt\u001B[0m                         Traceback (most recent call last)",
      "Cell \u001B[1;32mIn[40], line 34\u001B[0m\n\u001B[0;32m     32\u001B[0m \u001B[38;5;66;03m# Example usage\u001B[39;00m\n\u001B[0;32m     33\u001B[0m folder_path \u001B[38;5;241m=\u001B[39m \u001B[38;5;124mr\u001B[39m\u001B[38;5;124m\"\u001B[39m\u001B[38;5;124mC:/Users/abdulkadir/Documents/TensorFlow/workspace/training_demo/dataset/tfrecords/test/Kategori4\u001B[39m\u001B[38;5;124m\"\u001B[39m\n\u001B[1;32m---> 34\u001B[0m \u001B[43minspect_tfrecords_in_folder\u001B[49m\u001B[43m(\u001B[49m\u001B[43mfolder_path\u001B[49m\u001B[43m)\u001B[49m\n",
      "Cell \u001B[1;32mIn[40], line 30\u001B[0m, in \u001B[0;36minspect_tfrecords_in_folder\u001B[1;34m(folder_path)\u001B[0m\n\u001B[0;32m     28\u001B[0m \u001B[38;5;28;01mfor\u001B[39;00m tfrecord_file \u001B[38;5;129;01min\u001B[39;00m tfrecord_files:\n\u001B[0;32m     29\u001B[0m     \u001B[38;5;28mprint\u001B[39m(\u001B[38;5;124mf\u001B[39m\u001B[38;5;124m\"\u001B[39m\u001B[38;5;124mInspecting \u001B[39m\u001B[38;5;132;01m{\u001B[39;00mtfrecord_file\u001B[38;5;132;01m}\u001B[39;00m\u001B[38;5;124m\"\u001B[39m)\n\u001B[1;32m---> 30\u001B[0m     \u001B[43minspect_tfrecords\u001B[49m\u001B[43m(\u001B[49m\u001B[43mtfrecord_file\u001B[49m\u001B[43m)\u001B[49m\n",
      "Cell \u001B[1;32mIn[40], line 17\u001B[0m, in \u001B[0;36minspect_tfrecords\u001B[1;34m(tfrecord_path)\u001B[0m\n\u001B[0;32m     15\u001B[0m example \u001B[38;5;241m=\u001B[39m parse_tfrecord_fn(raw_record)\n\u001B[0;32m     16\u001B[0m labels \u001B[38;5;241m=\u001B[39m tf\u001B[38;5;241m.\u001B[39msparse\u001B[38;5;241m.\u001B[39mto_dense(example[\u001B[38;5;124m'\u001B[39m\u001B[38;5;124mimage/object/class/label\u001B[39m\u001B[38;5;124m'\u001B[39m])\u001B[38;5;241m.\u001B[39mnumpy()\n\u001B[1;32m---> 17\u001B[0m xmin \u001B[38;5;241m=\u001B[39m \u001B[43mtf\u001B[49m\u001B[38;5;241;43m.\u001B[39;49m\u001B[43msparse\u001B[49m\u001B[38;5;241;43m.\u001B[39;49m\u001B[43mto_dense\u001B[49m\u001B[43m(\u001B[49m\u001B[43mexample\u001B[49m\u001B[43m[\u001B[49m\u001B[38;5;124;43m'\u001B[39;49m\u001B[38;5;124;43mimage/object/bbox/xmin\u001B[39;49m\u001B[38;5;124;43m'\u001B[39;49m\u001B[43m]\u001B[49m\u001B[43m)\u001B[49m\u001B[38;5;241m.\u001B[39mnumpy()\n\u001B[0;32m     18\u001B[0m xmax \u001B[38;5;241m=\u001B[39m tf\u001B[38;5;241m.\u001B[39msparse\u001B[38;5;241m.\u001B[39mto_dense(example[\u001B[38;5;124m'\u001B[39m\u001B[38;5;124mimage/object/bbox/xmax\u001B[39m\u001B[38;5;124m'\u001B[39m])\u001B[38;5;241m.\u001B[39mnumpy()\n\u001B[0;32m     19\u001B[0m ymin \u001B[38;5;241m=\u001B[39m tf\u001B[38;5;241m.\u001B[39msparse\u001B[38;5;241m.\u001B[39mto_dense(example[\u001B[38;5;124m'\u001B[39m\u001B[38;5;124mimage/object/bbox/ymin\u001B[39m\u001B[38;5;124m'\u001B[39m])\u001B[38;5;241m.\u001B[39mnumpy()\n",
      "File \u001B[1;32m~\\anaconda3\\envs\\ML_env\\lib\\site-packages\\tensorflow\\python\\ops\\sparse_ops.py:1711\u001B[0m, in \u001B[0;36msparse_tensor_to_dense\u001B[1;34m(sp_input, default_value, validate_indices, name)\u001B[0m\n\u001B[0;32m   1708\u001B[0m \u001B[38;5;28;01mif\u001B[39;00m default_value \u001B[38;5;129;01mis\u001B[39;00m \u001B[38;5;28;01mNone\u001B[39;00m:\n\u001B[0;32m   1709\u001B[0m   default_value \u001B[38;5;241m=\u001B[39m array_ops\u001B[38;5;241m.\u001B[39mzeros([], dtype\u001B[38;5;241m=\u001B[39msp_input\u001B[38;5;241m.\u001B[39mdtype)\n\u001B[1;32m-> 1711\u001B[0m \u001B[38;5;28;01mreturn\u001B[39;00m \u001B[43mgen_sparse_ops\u001B[49m\u001B[38;5;241;43m.\u001B[39;49m\u001B[43msparse_to_dense\u001B[49m\u001B[43m(\u001B[49m\n\u001B[0;32m   1712\u001B[0m \u001B[43m    \u001B[49m\u001B[43msp_input\u001B[49m\u001B[38;5;241;43m.\u001B[39;49m\u001B[43mindices\u001B[49m\u001B[43m,\u001B[49m\n\u001B[0;32m   1713\u001B[0m \u001B[43m    \u001B[49m\u001B[43msp_input\u001B[49m\u001B[38;5;241;43m.\u001B[39;49m\u001B[43mdense_shape\u001B[49m\u001B[43m,\u001B[49m\n\u001B[0;32m   1714\u001B[0m \u001B[43m    \u001B[49m\u001B[43msp_input\u001B[49m\u001B[38;5;241;43m.\u001B[39;49m\u001B[43mvalues\u001B[49m\u001B[43m,\u001B[49m\n\u001B[0;32m   1715\u001B[0m \u001B[43m    \u001B[49m\u001B[43mdefault_value\u001B[49m\u001B[38;5;241;43m=\u001B[39;49m\u001B[43mdefault_value\u001B[49m\u001B[43m,\u001B[49m\n\u001B[0;32m   1716\u001B[0m \u001B[43m    \u001B[49m\u001B[43mvalidate_indices\u001B[49m\u001B[38;5;241;43m=\u001B[39;49m\u001B[43mvalidate_indices\u001B[49m\u001B[43m,\u001B[49m\n\u001B[0;32m   1717\u001B[0m \u001B[43m    \u001B[49m\u001B[43mname\u001B[49m\u001B[38;5;241;43m=\u001B[39;49m\u001B[43mname\u001B[49m\u001B[43m)\u001B[49m\n",
      "File \u001B[1;32m~\\anaconda3\\envs\\ML_env\\lib\\site-packages\\tensorflow\\python\\ops\\gen_sparse_ops.py:3156\u001B[0m, in \u001B[0;36msparse_to_dense\u001B[1;34m(sparse_indices, output_shape, sparse_values, default_value, validate_indices, name)\u001B[0m\n\u001B[0;32m   3154\u001B[0m \u001B[38;5;28;01mif\u001B[39;00m tld\u001B[38;5;241m.\u001B[39mis_eager:\n\u001B[0;32m   3155\u001B[0m   \u001B[38;5;28;01mtry\u001B[39;00m:\n\u001B[1;32m-> 3156\u001B[0m     _result \u001B[38;5;241m=\u001B[39m \u001B[43mpywrap_tfe\u001B[49m\u001B[38;5;241;43m.\u001B[39;49m\u001B[43mTFE_Py_FastPathExecute\u001B[49m\u001B[43m(\u001B[49m\n\u001B[0;32m   3157\u001B[0m \u001B[43m      \u001B[49m\u001B[43m_ctx\u001B[49m\u001B[43m,\u001B[49m\u001B[43m \u001B[49m\u001B[38;5;124;43m\"\u001B[39;49m\u001B[38;5;124;43mSparseToDense\u001B[39;49m\u001B[38;5;124;43m\"\u001B[39;49m\u001B[43m,\u001B[49m\u001B[43m \u001B[49m\u001B[43mname\u001B[49m\u001B[43m,\u001B[49m\u001B[43m \u001B[49m\u001B[43msparse_indices\u001B[49m\u001B[43m,\u001B[49m\u001B[43m \u001B[49m\u001B[43moutput_shape\u001B[49m\u001B[43m,\u001B[49m\n\u001B[0;32m   3158\u001B[0m \u001B[43m      \u001B[49m\u001B[43msparse_values\u001B[49m\u001B[43m,\u001B[49m\u001B[43m \u001B[49m\u001B[43mdefault_value\u001B[49m\u001B[43m,\u001B[49m\u001B[43m \u001B[49m\u001B[38;5;124;43m\"\u001B[39;49m\u001B[38;5;124;43mvalidate_indices\u001B[39;49m\u001B[38;5;124;43m\"\u001B[39;49m\u001B[43m,\u001B[49m\u001B[43m \u001B[49m\u001B[43mvalidate_indices\u001B[49m\u001B[43m)\u001B[49m\n\u001B[0;32m   3159\u001B[0m     \u001B[38;5;28;01mreturn\u001B[39;00m _result\n\u001B[0;32m   3160\u001B[0m   \u001B[38;5;28;01mexcept\u001B[39;00m _core\u001B[38;5;241m.\u001B[39m_NotOkStatusException \u001B[38;5;28;01mas\u001B[39;00m e:\n",
      "\u001B[1;31mKeyboardInterrupt\u001B[0m: "
     ]
    }
   ],
   "execution_count": 40,
   "source": [
    "def parse_tfrecord_fn(example):\n",
    "    feature_description = {\n",
    "        'image/encoded': tf.io.FixedLenFeature([], tf.string),\n",
    "        'image/object/class/label': tf.io.VarLenFeature(tf.int64),\n",
    "        'image/object/bbox/xmin': tf.io.VarLenFeature(tf.float32),\n",
    "        'image/object/bbox/xmax': tf.io.VarLenFeature(tf.float32),\n",
    "        'image/object/bbox/ymin': tf.io.VarLenFeature(tf.float32),\n",
    "        'image/object/bbox/ymax': tf.io.VarLenFeature(tf.float32),\n",
    "    }\n",
    "    return tf.io.parse_single_example(example, feature_description)\n",
    "\n",
    "def inspect_tfrecords(tfrecord_path):\n",
    "    raw_dataset = tf.data.TFRecordDataset(tfrecord_path)\n",
    "    for raw_record in raw_dataset:\n",
    "        example = parse_tfrecord_fn(raw_record)\n",
    "        labels = tf.sparse.to_dense(example['image/object/class/label']).numpy()\n",
    "        xmin = tf.sparse.to_dense(example['image/object/bbox/xmin']).numpy()\n",
    "        xmax = tf.sparse.to_dense(example['image/object/bbox/xmax']).numpy()\n",
    "        ymin = tf.sparse.to_dense(example['image/object/bbox/ymin']).numpy()\n",
    "        ymax = tf.sparse.to_dense(example['image/object/bbox/ymax']).numpy()\n",
    "        \n",
    "        print(f\"Labels: {labels}\")\n",
    "        print(f\"Bounding boxes: xmin={xmin}, xmax={xmax}, ymin={ymin}, ymax={ymax}\")\n",
    "\n",
    "# Example usage\n",
    "def inspect_tfrecords_in_folder(folder_path):\n",
    "    tfrecord_files = glob.glob(os.path.join(folder_path, '*.tfrecord'))\n",
    "    for tfrecord_file in tfrecord_files:\n",
    "        print(f\"Inspecting {tfrecord_file}\")\n",
    "        inspect_tfrecords(tfrecord_file)\n",
    "\n",
    "# folder_path = <hidden_path>\n",
    "# inspect_tfrecords_in_folder(folder_path)"
   ],
   "id": "3de0895740272072"
  },
  {
   "metadata": {},
   "cell_type": "markdown",
   "source": " # Train the model",
   "id": "1c79c7c42a210cd0"
  },
  {
   "metadata": {
    "ExecuteTime": {
     "end_time": "2024-07-02T11:26:46.052928Z",
     "start_time": "2024-07-02T11:26:45.198931Z"
    }
   },
   "cell_type": "code",
   "source": [
    "# Training is done from the terminal\n",
    "# python model_main_tf2.py --model_dir=models/my_efficientdet_d2_1 --pipeline_config_path=models/my_efficientdet_d2_1/pipeline.config"
   ],
   "id": "30e4dcbc17e78c29",
   "outputs": [],
   "execution_count": 27
  },
  {
   "metadata": {},
   "cell_type": "code",
   "outputs": [],
   "execution_count": null,
   "source": [
    "# Monitoring the training process\n",
    "# tensorboard --logdir=models/my_efficientdet_d0_3"
   ],
   "id": "b5bafd1ce316f5f2"
  },
  {
   "metadata": {},
   "cell_type": "markdown",
   "source": "## Export the Model",
   "id": "28f7aa9c65224be2"
  },
  {
   "metadata": {},
   "cell_type": "code",
   "outputs": [],
   "execution_count": null,
   "source": [
    "# Export the model from the terminal\n",
    "# python .\\exporter_main_v2.py --input_type image_tensor --pipeline_config_path .\\models\\my_efficientdet_d0_5\\pipeline.config --trained_checkpoint_dir .\\models\\my_efficientdet_d0_5\\ --output_directory .\\exported_models\\my_model_5"
   ],
   "id": "c36c054173fd55d8"
  },
  {
   "metadata": {},
   "cell_type": "markdown",
   "source": "## Inference",
   "id": "414dca700a4962cc"
  },
  {
   "metadata": {
    "ExecuteTime": {
     "end_time": "2024-09-05T11:15:10.581321Z",
     "start_time": "2024-09-05T11:14:48.314784Z"
    }
   },
   "cell_type": "code",
   "outputs": [
    {
     "name": "stdout",
     "output_type": "stream",
     "text": [
      "Loading model...Done!\n",
      "Result saved to C:\\Users\\abdulkadir\\Documents\\TensorFlow\\workspace\\training_demo\\dataset\\inferences_4\\12080-LCC.jpeg\n"
     ]
    }
   ],
   "execution_count": 12,
   "source": [
    "from object_detection.utils import label_map_util\n",
    "from object_detection.utils import visualization_utils as viz_utils\n",
    "import matplotlib.pyplot as plt\n",
    "\n",
    "# Paths\n",
    "# PATH_TO_SAVED_MODEL = <hidden_path>\n",
    "# PATH_TO_LABELS = <hidden_path>\n",
    "# IMAGE_PATH = <hidden_path>\n",
    "\n",
    "# Load the model\n",
    "print('Loading model...', end='')\n",
    "detect_fn = tf.saved_model.load(PATH_TO_SAVED_MODEL)\n",
    "print('Done!')\n",
    "\n",
    "# Load label map\n",
    "category_index = label_map_util.create_category_index_from_labelmap(PATH_TO_LABELS, use_display_name=True)\n",
    "\n",
    "# Function to load an image\n",
    "def load_image_into_numpy_array(path):\n",
    "    return np.array(cv2.cvtColor(cv2.imread(path), cv2.COLOR_BGR2RGB))\n",
    "\n",
    "# Function to run inference\n",
    "def run_inference(image_path):\n",
    "    image_np = load_image_into_numpy_array(image_path)\n",
    "    input_tensor = tf.convert_to_tensor(image_np)\n",
    "    input_tensor = input_tensor[tf.newaxis, ...]\n",
    "\n",
    "    detections = detect_fn(input_tensor)\n",
    "\n",
    "    # All outputs are batches tensors.\n",
    "    # Convert to numpy arrays, and take index [0] to remove the batch dimension.\n",
    "    num_detections = int(detections.pop('num_detections'))\n",
    "    detections = {key: value[0, :num_detections].numpy()\n",
    "                  for key, value in detections.items()}\n",
    "    detections['num_detections'] = num_detections\n",
    "\n",
    "    # detection_classes should be ints.\n",
    "    detections['detection_classes'] = detections['detection_classes'].astype(np.int64)\n",
    "\n",
    "    image_np_with_detections = image_np.copy()\n",
    "\n",
    "    viz_utils.visualize_boxes_and_labels_on_image_array(\n",
    "        image_np_with_detections,\n",
    "        detections['detection_boxes'],\n",
    "        detections['detection_classes'],\n",
    "        detections['detection_scores'],\n",
    "        category_index,\n",
    "        use_normalized_coordinates=True,\n",
    "        max_boxes_to_draw=200,\n",
    "        min_score_thresh=.30,\n",
    "        agnostic_mode=False)\n",
    "\n",
    "    return image_np_with_detections\n",
    "\n",
    "# Run inference and save the results\n",
    "result_image = run_inference(IMAGE_PATH)\n",
    "\n",
    "# output_path = <hidden_path>\n",
    "cv2.imwrite(output_path, cv2.cvtColor(result_image, cv2.COLOR_RGB2BGR))\n",
    "\n",
    "print(f\"Result saved to {output_path}\")"
   ],
   "id": "b527604be84403de"
  },
  {
   "metadata": {},
   "cell_type": "markdown",
   "source": [
    "## Evaluate the Model "
   ],
   "id": "ccbc23b413b715a"
  },
  {
   "metadata": {},
   "cell_type": "code",
   "outputs": [],
   "execution_count": null,
   "source": [
    "# Evaluation is done from the terminal\n",
    "# python model_main_tf2.py --model_dir=models/my_efficientdet_d0_5 --pipeline_config_path=models/my_efficientdet_d0_5/pipeline.config --checkpoint_dir=models/my_efficientdet_d0_5"
   ],
   "id": "c354a9f41a5c813"
  }
 ],
 "metadata": {
  "kernelspec": {
   "display_name": "Python 3 (ipykernel)",
   "language": "python",
   "name": "python3"
  },
  "language_info": {
   "codemirror_mode": {
    "name": "ipython",
    "version": 2
   },
   "file_extension": ".py",
   "mimetype": "text/x-python",
   "name": "python",
   "nbconvert_exporter": "python",
   "pygments_lexer": "ipython2",
   "version": "2.7.6"
  }
 },
 "nbformat": 4,
 "nbformat_minor": 5
}
